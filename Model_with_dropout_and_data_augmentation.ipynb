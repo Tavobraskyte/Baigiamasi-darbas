{
  "nbformat": 4,
  "nbformat_minor": 0,
  "metadata": {
    "colab": {
      "provenance": []
    },
    "kernelspec": {
      "name": "python3",
      "display_name": "Python 3"
    },
    "language_info": {
      "name": "python"
    }
  },
  "cells": [
    {
      "cell_type": "markdown",
      "source": [
        "# **Baigiamasis projektas**\n",
        "\n",
        "Vertikalieji reikalavimai\n",
        "\n",
        "Projektas orientuotas į gilesnį supratimą ir giluminį mokymąsi, daugiausia dėmesio skiriant modelio mokymui:\n",
        "\n",
        "    ** Giluminio mokymosi (Deep Learning) tyrinėjimas.**\n",
        "\n",
        "\n",
        "*   Įgyvendintos dvi giluminio mokymosi užduotys, skirtingomis temomis ir atliktas papildomas modelių derinimas.\n",
        "\n",
        "*   Įgyvendintos dvi giluminio mokymosi užduotys su esminiais patobulinimais ar variacijomis. Užduotis parašyta vienu pagrindu, perrašyta kitu pagrindu su geresniu tikslumu ar veikimo laiku.\n",
        "\n",
        "Šiame projekte naudojamas giluminio mokymosi modelis, pagrįstas konvoliucinėmis neuronų tinklais (CNN). Pagrindiniai šio modelio komponentai yra:\n",
        "\n",
        "Konvoliuciniai sluoksniai (Conv2D) – šie sluoksniai yra naudojami išgauti savybes iš įvesties vaizdų, kaip, pavyzdžiui, kraštus, kampus ar tekstūras, ir jie yra pagrindinis konvoliucinių tinklų elementas.\n",
        "\n",
        "Maksimaliosios apdorojimo (MaxPooling2D) sluoksniai – jie yra naudojami sumažinti duomenų matmenis ir užtikrinti, kad svarbios savybės būtų išlaikytos, bet tuo pačiu sumažinamas skaičiavimų kiekis.\n",
        "\n",
        "Dropout sluoksniai – šie sluoksniai padeda sumažinti modelio perteklių, atsitiktinai \"išjungiant\" tam tikrus neuronų jungtis mokymosi metu. Tai padeda modeliams generalizuoti ir išvengti per didelio prisitaikymo prie treniravimo duomenų.\n",
        "\n",
        "Data Augmentation – tai technika, naudojama padidinti treniravimo duomenų įvairovę per tokius procesus kaip atsitiktinis vaizdų sukimas, apkarpymas, kontrasto keitimas ir pan. Tai padeda modeliams išmokti tvirtus požymius.\n",
        "\n",
        "Panaudota Exponential Decay mokymosi greičio tvarka, kad optimizatorius palaipsniui mažintų mokymosi greitį, todėl modelis gali geriau konverguoti ir pasiekti geresnių rezultatų ilgalaikėje perspektyvoje.\n",
        "\n",
        "Konvoliuciniai neuronų tinklai (CNN) –  pagrindinis modelio tipas šiame projekte, naudojamas vaizdų klasifikavimui.\n",
        "\n",
        "Data Augmentation technikos – tyrinėjami būdai, kaip pagerinti modelio tikslumą ir sumažinti per didelį prisitaikymą.\n",
        "\n",
        "Dropout ir kiti reguliavimo metodai – naudojami modelio pertraukimo sumažinimui ir generalizacijos pagerinimui.\n",
        "\n",
        "Tai suteikia šiam modeliui gebėjimą efektyviai išmokti iš duomenų ir generuoti gerus rezultatus, net jei treniravimo duomenys turi tam tikrą trūkumą ar perteklių.\n",
        "\n",
        "\n",
        "\n",
        "\n",
        "\n",
        "\n"
      ],
      "metadata": {
        "id": "bousBLAp1Ctg"
      }
    },
    {
      "cell_type": "markdown",
      "source": [
        "Modelio kūrimas su Dropout ir Data Augmentation\n",
        "Čia sukursime modelį, kuris naudoja Data Augmentation ir Dropout sluoksnius, kad sumažintume perpratimo tikimybę ir pagerintume bendrą modelio veikimą.\n",
        "\n"
      ],
      "metadata": {
        "id": "oBY45A4IA47_"
      }
    },
    {
      "cell_type": "code",
      "execution_count": null,
      "metadata": {
        "colab": {
          "base_uri": "https://localhost:8080/",
          "height": 682
        },
        "id": "Fu9FsEJEA3Ok",
        "outputId": "8d5d1f61-6616-4e16-85e4-675633dbb71a"
      },
      "outputs": [
        {
          "output_type": "stream",
          "name": "stderr",
          "text": [
            "/usr/local/lib/python3.10/dist-packages/keras/src/layers/convolutional/base_conv.py:107: UserWarning: Do not pass an `input_shape`/`input_dim` argument to a layer. When using Sequential models, prefer using an `Input(shape)` object as the first layer in the model instead.\n",
            "  super().__init__(activity_regularizer=activity_regularizer, **kwargs)\n"
          ]
        },
        {
          "output_type": "display_data",
          "data": {
            "text/plain": [
              "\u001b[1mModel: \"sequential_5\"\u001b[0m\n"
            ],
            "text/html": [
              "<pre style=\"white-space:pre;overflow-x:auto;line-height:normal;font-family:Menlo,'DejaVu Sans Mono',consolas,'Courier New',monospace\"><span style=\"font-weight: bold\">Model: \"sequential_5\"</span>\n",
              "</pre>\n"
            ]
          },
          "metadata": {}
        },
        {
          "output_type": "display_data",
          "data": {
            "text/plain": [
              "┏━━━━━━━━━━━━━━━━━━━━━━━━━━━━━━━━━━━━━━┳━━━━━━━━━━━━━━━━━━━━━━━━━━━━━┳━━━━━━━━━━━━━━━━━┓\n",
              "┃\u001b[1m \u001b[0m\u001b[1mLayer (type)                        \u001b[0m\u001b[1m \u001b[0m┃\u001b[1m \u001b[0m\u001b[1mOutput Shape               \u001b[0m\u001b[1m \u001b[0m┃\u001b[1m \u001b[0m\u001b[1m        Param #\u001b[0m\u001b[1m \u001b[0m┃\n",
              "┡━━━━━━━━━━━━━━━━━━━━━━━━━━━━━━━━━━━━━━╇━━━━━━━━━━━━━━━━━━━━━━━━━━━━━╇━━━━━━━━━━━━━━━━━┩\n",
              "│ conv2d_6 (\u001b[38;5;33mConv2D\u001b[0m)                    │ (\u001b[38;5;45mNone\u001b[0m, \u001b[38;5;34m30\u001b[0m, \u001b[38;5;34m30\u001b[0m, \u001b[38;5;34m32\u001b[0m)          │             \u001b[38;5;34m896\u001b[0m │\n",
              "├──────────────────────────────────────┼─────────────────────────────┼─────────────────┤\n",
              "│ max_pooling2d_6 (\u001b[38;5;33mMaxPooling2D\u001b[0m)       │ (\u001b[38;5;45mNone\u001b[0m, \u001b[38;5;34m15\u001b[0m, \u001b[38;5;34m15\u001b[0m, \u001b[38;5;34m32\u001b[0m)          │               \u001b[38;5;34m0\u001b[0m │\n",
              "├──────────────────────────────────────┼─────────────────────────────┼─────────────────┤\n",
              "│ dropout_8 (\u001b[38;5;33mDropout\u001b[0m)                  │ (\u001b[38;5;45mNone\u001b[0m, \u001b[38;5;34m15\u001b[0m, \u001b[38;5;34m15\u001b[0m, \u001b[38;5;34m32\u001b[0m)          │               \u001b[38;5;34m0\u001b[0m │\n",
              "├──────────────────────────────────────┼─────────────────────────────┼─────────────────┤\n",
              "│ lambda_2 (\u001b[38;5;33mLambda\u001b[0m)                    │ (\u001b[38;5;45mNone\u001b[0m, \u001b[38;5;34m15\u001b[0m, \u001b[38;5;34m15\u001b[0m, \u001b[38;5;34m32\u001b[0m)          │               \u001b[38;5;34m0\u001b[0m │\n",
              "├──────────────────────────────────────┼─────────────────────────────┼─────────────────┤\n",
              "│ conv2d_7 (\u001b[38;5;33mConv2D\u001b[0m)                    │ (\u001b[38;5;45mNone\u001b[0m, \u001b[38;5;34m13\u001b[0m, \u001b[38;5;34m13\u001b[0m, \u001b[38;5;34m64\u001b[0m)          │          \u001b[38;5;34m18,496\u001b[0m │\n",
              "├──────────────────────────────────────┼─────────────────────────────┼─────────────────┤\n",
              "│ max_pooling2d_7 (\u001b[38;5;33mMaxPooling2D\u001b[0m)       │ (\u001b[38;5;45mNone\u001b[0m, \u001b[38;5;34m6\u001b[0m, \u001b[38;5;34m6\u001b[0m, \u001b[38;5;34m64\u001b[0m)            │               \u001b[38;5;34m0\u001b[0m │\n",
              "├──────────────────────────────────────┼─────────────────────────────┼─────────────────┤\n",
              "│ dropout_9 (\u001b[38;5;33mDropout\u001b[0m)                  │ (\u001b[38;5;45mNone\u001b[0m, \u001b[38;5;34m6\u001b[0m, \u001b[38;5;34m6\u001b[0m, \u001b[38;5;34m64\u001b[0m)            │               \u001b[38;5;34m0\u001b[0m │\n",
              "├──────────────────────────────────────┼─────────────────────────────┼─────────────────┤\n",
              "│ conv2d_8 (\u001b[38;5;33mConv2D\u001b[0m)                    │ (\u001b[38;5;45mNone\u001b[0m, \u001b[38;5;34m4\u001b[0m, \u001b[38;5;34m4\u001b[0m, \u001b[38;5;34m128\u001b[0m)           │          \u001b[38;5;34m73,856\u001b[0m │\n",
              "├──────────────────────────────────────┼─────────────────────────────┼─────────────────┤\n",
              "│ max_pooling2d_8 (\u001b[38;5;33mMaxPooling2D\u001b[0m)       │ (\u001b[38;5;45mNone\u001b[0m, \u001b[38;5;34m2\u001b[0m, \u001b[38;5;34m2\u001b[0m, \u001b[38;5;34m128\u001b[0m)           │               \u001b[38;5;34m0\u001b[0m │\n",
              "├──────────────────────────────────────┼─────────────────────────────┼─────────────────┤\n",
              "│ dropout_10 (\u001b[38;5;33mDropout\u001b[0m)                 │ (\u001b[38;5;45mNone\u001b[0m, \u001b[38;5;34m2\u001b[0m, \u001b[38;5;34m2\u001b[0m, \u001b[38;5;34m128\u001b[0m)           │               \u001b[38;5;34m0\u001b[0m │\n",
              "├──────────────────────────────────────┼─────────────────────────────┼─────────────────┤\n",
              "│ flatten_2 (\u001b[38;5;33mFlatten\u001b[0m)                  │ (\u001b[38;5;45mNone\u001b[0m, \u001b[38;5;34m512\u001b[0m)                 │               \u001b[38;5;34m0\u001b[0m │\n",
              "├──────────────────────────────────────┼─────────────────────────────┼─────────────────┤\n",
              "│ dense_4 (\u001b[38;5;33mDense\u001b[0m)                      │ (\u001b[38;5;45mNone\u001b[0m, \u001b[38;5;34m128\u001b[0m)                 │          \u001b[38;5;34m65,664\u001b[0m │\n",
              "├──────────────────────────────────────┼─────────────────────────────┼─────────────────┤\n",
              "│ dropout_11 (\u001b[38;5;33mDropout\u001b[0m)                 │ (\u001b[38;5;45mNone\u001b[0m, \u001b[38;5;34m128\u001b[0m)                 │               \u001b[38;5;34m0\u001b[0m │\n",
              "├──────────────────────────────────────┼─────────────────────────────┼─────────────────┤\n",
              "│ dense_5 (\u001b[38;5;33mDense\u001b[0m)                      │ (\u001b[38;5;45mNone\u001b[0m, \u001b[38;5;34m10\u001b[0m)                  │           \u001b[38;5;34m1,290\u001b[0m │\n",
              "└──────────────────────────────────────┴─────────────────────────────┴─────────────────┘\n"
            ],
            "text/html": [
              "<pre style=\"white-space:pre;overflow-x:auto;line-height:normal;font-family:Menlo,'DejaVu Sans Mono',consolas,'Courier New',monospace\">┏━━━━━━━━━━━━━━━━━━━━━━━━━━━━━━━━━━━━━━┳━━━━━━━━━━━━━━━━━━━━━━━━━━━━━┳━━━━━━━━━━━━━━━━━┓\n",
              "┃<span style=\"font-weight: bold\"> Layer (type)                         </span>┃<span style=\"font-weight: bold\"> Output Shape                </span>┃<span style=\"font-weight: bold\">         Param # </span>┃\n",
              "┡━━━━━━━━━━━━━━━━━━━━━━━━━━━━━━━━━━━━━━╇━━━━━━━━━━━━━━━━━━━━━━━━━━━━━╇━━━━━━━━━━━━━━━━━┩\n",
              "│ conv2d_6 (<span style=\"color: #0087ff; text-decoration-color: #0087ff\">Conv2D</span>)                    │ (<span style=\"color: #00d7ff; text-decoration-color: #00d7ff\">None</span>, <span style=\"color: #00af00; text-decoration-color: #00af00\">30</span>, <span style=\"color: #00af00; text-decoration-color: #00af00\">30</span>, <span style=\"color: #00af00; text-decoration-color: #00af00\">32</span>)          │             <span style=\"color: #00af00; text-decoration-color: #00af00\">896</span> │\n",
              "├──────────────────────────────────────┼─────────────────────────────┼─────────────────┤\n",
              "│ max_pooling2d_6 (<span style=\"color: #0087ff; text-decoration-color: #0087ff\">MaxPooling2D</span>)       │ (<span style=\"color: #00d7ff; text-decoration-color: #00d7ff\">None</span>, <span style=\"color: #00af00; text-decoration-color: #00af00\">15</span>, <span style=\"color: #00af00; text-decoration-color: #00af00\">15</span>, <span style=\"color: #00af00; text-decoration-color: #00af00\">32</span>)          │               <span style=\"color: #00af00; text-decoration-color: #00af00\">0</span> │\n",
              "├──────────────────────────────────────┼─────────────────────────────┼─────────────────┤\n",
              "│ dropout_8 (<span style=\"color: #0087ff; text-decoration-color: #0087ff\">Dropout</span>)                  │ (<span style=\"color: #00d7ff; text-decoration-color: #00d7ff\">None</span>, <span style=\"color: #00af00; text-decoration-color: #00af00\">15</span>, <span style=\"color: #00af00; text-decoration-color: #00af00\">15</span>, <span style=\"color: #00af00; text-decoration-color: #00af00\">32</span>)          │               <span style=\"color: #00af00; text-decoration-color: #00af00\">0</span> │\n",
              "├──────────────────────────────────────┼─────────────────────────────┼─────────────────┤\n",
              "│ lambda_2 (<span style=\"color: #0087ff; text-decoration-color: #0087ff\">Lambda</span>)                    │ (<span style=\"color: #00d7ff; text-decoration-color: #00d7ff\">None</span>, <span style=\"color: #00af00; text-decoration-color: #00af00\">15</span>, <span style=\"color: #00af00; text-decoration-color: #00af00\">15</span>, <span style=\"color: #00af00; text-decoration-color: #00af00\">32</span>)          │               <span style=\"color: #00af00; text-decoration-color: #00af00\">0</span> │\n",
              "├──────────────────────────────────────┼─────────────────────────────┼─────────────────┤\n",
              "│ conv2d_7 (<span style=\"color: #0087ff; text-decoration-color: #0087ff\">Conv2D</span>)                    │ (<span style=\"color: #00d7ff; text-decoration-color: #00d7ff\">None</span>, <span style=\"color: #00af00; text-decoration-color: #00af00\">13</span>, <span style=\"color: #00af00; text-decoration-color: #00af00\">13</span>, <span style=\"color: #00af00; text-decoration-color: #00af00\">64</span>)          │          <span style=\"color: #00af00; text-decoration-color: #00af00\">18,496</span> │\n",
              "├──────────────────────────────────────┼─────────────────────────────┼─────────────────┤\n",
              "│ max_pooling2d_7 (<span style=\"color: #0087ff; text-decoration-color: #0087ff\">MaxPooling2D</span>)       │ (<span style=\"color: #00d7ff; text-decoration-color: #00d7ff\">None</span>, <span style=\"color: #00af00; text-decoration-color: #00af00\">6</span>, <span style=\"color: #00af00; text-decoration-color: #00af00\">6</span>, <span style=\"color: #00af00; text-decoration-color: #00af00\">64</span>)            │               <span style=\"color: #00af00; text-decoration-color: #00af00\">0</span> │\n",
              "├──────────────────────────────────────┼─────────────────────────────┼─────────────────┤\n",
              "│ dropout_9 (<span style=\"color: #0087ff; text-decoration-color: #0087ff\">Dropout</span>)                  │ (<span style=\"color: #00d7ff; text-decoration-color: #00d7ff\">None</span>, <span style=\"color: #00af00; text-decoration-color: #00af00\">6</span>, <span style=\"color: #00af00; text-decoration-color: #00af00\">6</span>, <span style=\"color: #00af00; text-decoration-color: #00af00\">64</span>)            │               <span style=\"color: #00af00; text-decoration-color: #00af00\">0</span> │\n",
              "├──────────────────────────────────────┼─────────────────────────────┼─────────────────┤\n",
              "│ conv2d_8 (<span style=\"color: #0087ff; text-decoration-color: #0087ff\">Conv2D</span>)                    │ (<span style=\"color: #00d7ff; text-decoration-color: #00d7ff\">None</span>, <span style=\"color: #00af00; text-decoration-color: #00af00\">4</span>, <span style=\"color: #00af00; text-decoration-color: #00af00\">4</span>, <span style=\"color: #00af00; text-decoration-color: #00af00\">128</span>)           │          <span style=\"color: #00af00; text-decoration-color: #00af00\">73,856</span> │\n",
              "├──────────────────────────────────────┼─────────────────────────────┼─────────────────┤\n",
              "│ max_pooling2d_8 (<span style=\"color: #0087ff; text-decoration-color: #0087ff\">MaxPooling2D</span>)       │ (<span style=\"color: #00d7ff; text-decoration-color: #00d7ff\">None</span>, <span style=\"color: #00af00; text-decoration-color: #00af00\">2</span>, <span style=\"color: #00af00; text-decoration-color: #00af00\">2</span>, <span style=\"color: #00af00; text-decoration-color: #00af00\">128</span>)           │               <span style=\"color: #00af00; text-decoration-color: #00af00\">0</span> │\n",
              "├──────────────────────────────────────┼─────────────────────────────┼─────────────────┤\n",
              "│ dropout_10 (<span style=\"color: #0087ff; text-decoration-color: #0087ff\">Dropout</span>)                 │ (<span style=\"color: #00d7ff; text-decoration-color: #00d7ff\">None</span>, <span style=\"color: #00af00; text-decoration-color: #00af00\">2</span>, <span style=\"color: #00af00; text-decoration-color: #00af00\">2</span>, <span style=\"color: #00af00; text-decoration-color: #00af00\">128</span>)           │               <span style=\"color: #00af00; text-decoration-color: #00af00\">0</span> │\n",
              "├──────────────────────────────────────┼─────────────────────────────┼─────────────────┤\n",
              "│ flatten_2 (<span style=\"color: #0087ff; text-decoration-color: #0087ff\">Flatten</span>)                  │ (<span style=\"color: #00d7ff; text-decoration-color: #00d7ff\">None</span>, <span style=\"color: #00af00; text-decoration-color: #00af00\">512</span>)                 │               <span style=\"color: #00af00; text-decoration-color: #00af00\">0</span> │\n",
              "├──────────────────────────────────────┼─────────────────────────────┼─────────────────┤\n",
              "│ dense_4 (<span style=\"color: #0087ff; text-decoration-color: #0087ff\">Dense</span>)                      │ (<span style=\"color: #00d7ff; text-decoration-color: #00d7ff\">None</span>, <span style=\"color: #00af00; text-decoration-color: #00af00\">128</span>)                 │          <span style=\"color: #00af00; text-decoration-color: #00af00\">65,664</span> │\n",
              "├──────────────────────────────────────┼─────────────────────────────┼─────────────────┤\n",
              "│ dropout_11 (<span style=\"color: #0087ff; text-decoration-color: #0087ff\">Dropout</span>)                 │ (<span style=\"color: #00d7ff; text-decoration-color: #00d7ff\">None</span>, <span style=\"color: #00af00; text-decoration-color: #00af00\">128</span>)                 │               <span style=\"color: #00af00; text-decoration-color: #00af00\">0</span> │\n",
              "├──────────────────────────────────────┼─────────────────────────────┼─────────────────┤\n",
              "│ dense_5 (<span style=\"color: #0087ff; text-decoration-color: #0087ff\">Dense</span>)                      │ (<span style=\"color: #00d7ff; text-decoration-color: #00d7ff\">None</span>, <span style=\"color: #00af00; text-decoration-color: #00af00\">10</span>)                  │           <span style=\"color: #00af00; text-decoration-color: #00af00\">1,290</span> │\n",
              "└──────────────────────────────────────┴─────────────────────────────┴─────────────────┘\n",
              "</pre>\n"
            ]
          },
          "metadata": {}
        },
        {
          "output_type": "display_data",
          "data": {
            "text/plain": [
              "\u001b[1m Total params: \u001b[0m\u001b[38;5;34m160,202\u001b[0m (625.79 KB)\n"
            ],
            "text/html": [
              "<pre style=\"white-space:pre;overflow-x:auto;line-height:normal;font-family:Menlo,'DejaVu Sans Mono',consolas,'Courier New',monospace\"><span style=\"font-weight: bold\"> Total params: </span><span style=\"color: #00af00; text-decoration-color: #00af00\">160,202</span> (625.79 KB)\n",
              "</pre>\n"
            ]
          },
          "metadata": {}
        },
        {
          "output_type": "display_data",
          "data": {
            "text/plain": [
              "\u001b[1m Trainable params: \u001b[0m\u001b[38;5;34m160,202\u001b[0m (625.79 KB)\n"
            ],
            "text/html": [
              "<pre style=\"white-space:pre;overflow-x:auto;line-height:normal;font-family:Menlo,'DejaVu Sans Mono',consolas,'Courier New',monospace\"><span style=\"font-weight: bold\"> Trainable params: </span><span style=\"color: #00af00; text-decoration-color: #00af00\">160,202</span> (625.79 KB)\n",
              "</pre>\n"
            ]
          },
          "metadata": {}
        },
        {
          "output_type": "display_data",
          "data": {
            "text/plain": [
              "\u001b[1m Non-trainable params: \u001b[0m\u001b[38;5;34m0\u001b[0m (0.00 B)\n"
            ],
            "text/html": [
              "<pre style=\"white-space:pre;overflow-x:auto;line-height:normal;font-family:Menlo,'DejaVu Sans Mono',consolas,'Courier New',monospace\"><span style=\"font-weight: bold\"> Non-trainable params: </span><span style=\"color: #00af00; text-decoration-color: #00af00\">0</span> (0.00 B)\n",
              "</pre>\n"
            ]
          },
          "metadata": {}
        }
      ],
      "source": [
        "# Importuojame reikalingas bibliotekas\n",
        "import tensorflow as tf\n",
        "from tensorflow.keras import layers, models\n",
        "import matplotlib.pyplot as plt\n",
        "import numpy as np\n",
        "\n",
        "# CIFAR-10 duomenų užkrovimas\n",
        "(train_images, train_labels), (test_images, test_labels) = tf.keras.datasets.cifar10.load_data()\n",
        "\n",
        "# Data Augmentation naudojimas kaip atskiras procesas\n",
        "data_augmentation = tf.keras.Sequential([\n",
        "    layers.RandomFlip(\"horizontal\"),\n",
        "    layers.RandomRotation(0.2),\n",
        "    layers.RandomZoom(0.2),\n",
        "    layers.RandomTranslation(0.1, 0.1),  # Pridėti vertikalią ir horizontalią perkėlimą\n",
        "    layers.RandomContrast(0.2),  # Kontrasto pakeitimas\n",
        "])\n",
        "\n",
        "# Normalizuokime duomenis (būtina prieš treniravimą)\n",
        "train_images = train_images / 255.0\n",
        "test_images = test_images / 255.0\n",
        "\n",
        "# Sukuriame modelį su Dropout ir Data Augmentation\n",
        "model = models.Sequential([\n",
        "\n",
        "    # Pirmas konvoliucinis sluoksnis su įvesties forma\n",
        "    layers.Conv2D(32, (3, 3), activation='relu', input_shape=(32, 32, 3)),\n",
        "    layers.MaxPooling2D((2, 2)),\n",
        "    layers.Dropout(0.3),  # Padidintas Dropout\n",
        "\n",
        "    # Pritaikome Data Augmentation treniravimo metu\n",
        "    layers.Lambda(lambda x: data_augmentation(x)),\n",
        "\n",
        "    layers.Conv2D(64, (3, 3), activation='relu'),\n",
        "    layers.MaxPooling2D((2, 2)),\n",
        "    layers.Dropout(0.3),  # Padidintas Dropout\n",
        "\n",
        "    layers.Conv2D(128, (3, 3), activation='relu'),\n",
        "    layers.MaxPooling2D((2, 2)),\n",
        "    layers.Dropout(0.3),  # Padidintas Dropout\n",
        "\n",
        "    layers.Flatten(),\n",
        "    layers.Dense(128, activation='relu'),\n",
        "    layers.Dropout(0.5),  # Dropout sluoksnis\n",
        "    layers.Dense(10, activation='softmax')  # Softmax aktyvacija paskutiniame sluoksnyje\n",
        "])\n",
        "\n",
        "# Modelio apžvalga\n",
        "model.summary()\n",
        "\n"
      ]
    },
    {
      "cell_type": "markdown",
      "source": [
        "Modelio kompiliacija\n",
        "Kompiliuojame modelį su adam optimizatoriumi ir SparseCategoricalCrossentropy nuostolių funkcija."
      ],
      "metadata": {
        "id": "kDW5_TP2A4IC"
      }
    },
    {
      "cell_type": "code",
      "source": [
        "# Mokymosi greičio sumažinimas kas epochą (Step Decay)\n",
        "initial_learning_rate = 0.001\n",
        "lr_schedule = tf.keras.optimizers.schedules.ExponentialDecay(\n",
        "    initial_learning_rate,\n",
        "    decay_steps=1000,\n",
        "    decay_rate=0.96,\n",
        "    staircase=True)\n",
        "\n",
        "optimizer = tf.keras.optimizers.Adam(learning_rate=lr_schedule)\n",
        "model.compile(optimizer=optimizer, loss='sparse_categorical_crossentropy', metrics=['accuracy'])"
      ],
      "metadata": {
        "id": "HHgGK-HeBK3O"
      },
      "execution_count": null,
      "outputs": []
    },
    {
      "cell_type": "markdown",
      "source": [
        "Modelio mokymas\n",
        "Mokysime modelį 10 epochų ir stebėsime tikslumą bei nuostolius tiek treniravimo, tiek testavimo duomenims."
      ],
      "metadata": {
        "id": "bv35LvWmBNqE"
      }
    },
    {
      "cell_type": "code",
      "source": [
        "# Modelio treniravimas\n",
        "history=model.fit(train_images, train_labels, epochs=20, validation_data=(test_images, test_labels))\n",
        "\n"
      ],
      "metadata": {
        "colab": {
          "base_uri": "https://localhost:8080/"
        },
        "id": "5MTHWQ75BSMg",
        "outputId": "851020bd-3c17-4372-e9cb-84257b4c4c99"
      },
      "execution_count": null,
      "outputs": [
        {
          "output_type": "stream",
          "name": "stdout",
          "text": [
            "Epoch 1/20\n",
            "\u001b[1m1563/1563\u001b[0m \u001b[32m━━━━━━━━━━━━━━━━━━━━\u001b[0m\u001b[37m\u001b[0m \u001b[1m162s\u001b[0m 101ms/step - accuracy: 0.2244 - loss: 2.0112 - val_accuracy: 0.4429 - val_loss: 1.5269\n",
            "Epoch 2/20\n",
            "\u001b[1m1563/1563\u001b[0m \u001b[32m━━━━━━━━━━━━━━━━━━━━\u001b[0m\u001b[37m\u001b[0m \u001b[1m201s\u001b[0m 100ms/step - accuracy: 0.4027 - loss: 1.6189 - val_accuracy: 0.5036 - val_loss: 1.3881\n",
            "Epoch 3/20\n",
            "\u001b[1m1563/1563\u001b[0m \u001b[32m━━━━━━━━━━━━━━━━━━━━\u001b[0m\u001b[37m\u001b[0m \u001b[1m203s\u001b[0m 101ms/step - accuracy: 0.4398 - loss: 1.5360 - val_accuracy: 0.5332 - val_loss: 1.3314\n",
            "Epoch 4/20\n",
            "\u001b[1m1563/1563\u001b[0m \u001b[32m━━━━━━━━━━━━━━━━━━━━\u001b[0m\u001b[37m\u001b[0m \u001b[1m160s\u001b[0m 103ms/step - accuracy: 0.4620 - loss: 1.4861 - val_accuracy: 0.5538 - val_loss: 1.2745\n",
            "Epoch 5/20\n",
            "\u001b[1m1563/1563\u001b[0m \u001b[32m━━━━━━━━━━━━━━━━━━━━\u001b[0m\u001b[37m\u001b[0m \u001b[1m158s\u001b[0m 101ms/step - accuracy: 0.4777 - loss: 1.4371 - val_accuracy: 0.5595 - val_loss: 1.2584\n",
            "Epoch 6/20\n",
            "\u001b[1m1563/1563\u001b[0m \u001b[32m━━━━━━━━━━━━━━━━━━━━\u001b[0m\u001b[37m\u001b[0m \u001b[1m203s\u001b[0m 102ms/step - accuracy: 0.4902 - loss: 1.4019 - val_accuracy: 0.5580 - val_loss: 1.2717\n",
            "Epoch 7/20\n",
            "\u001b[1m1563/1563\u001b[0m \u001b[32m━━━━━━━━━━━━━━━━━━━━\u001b[0m\u001b[37m\u001b[0m \u001b[1m205s\u001b[0m 104ms/step - accuracy: 0.5071 - loss: 1.3750 - val_accuracy: 0.5961 - val_loss: 1.1725\n",
            "Epoch 8/20\n",
            "\u001b[1m1563/1563\u001b[0m \u001b[32m━━━━━━━━━━━━━━━━━━━━\u001b[0m\u001b[37m\u001b[0m \u001b[1m198s\u001b[0m 101ms/step - accuracy: 0.5126 - loss: 1.3571 - val_accuracy: 0.5908 - val_loss: 1.1760\n",
            "Epoch 9/20\n",
            "\u001b[1m1563/1563\u001b[0m \u001b[32m━━━━━━━━━━━━━━━━━━━━\u001b[0m\u001b[37m\u001b[0m \u001b[1m202s\u001b[0m 102ms/step - accuracy: 0.5240 - loss: 1.3328 - val_accuracy: 0.6094 - val_loss: 1.1267\n",
            "Epoch 10/20\n",
            "\u001b[1m1563/1563\u001b[0m \u001b[32m━━━━━━━━━━━━━━━━━━━━\u001b[0m\u001b[37m\u001b[0m \u001b[1m158s\u001b[0m 101ms/step - accuracy: 0.5339 - loss: 1.3047 - val_accuracy: 0.5915 - val_loss: 1.1604\n",
            "Epoch 11/20\n",
            "\u001b[1m1563/1563\u001b[0m \u001b[32m━━━━━━━━━━━━━━━━━━━━\u001b[0m\u001b[37m\u001b[0m \u001b[1m201s\u001b[0m 101ms/step - accuracy: 0.5422 - loss: 1.2874 - val_accuracy: 0.6181 - val_loss: 1.0999\n",
            "Epoch 12/20\n",
            "\u001b[1m1563/1563\u001b[0m \u001b[32m━━━━━━━━━━━━━━━━━━━━\u001b[0m\u001b[37m\u001b[0m \u001b[1m202s\u001b[0m 101ms/step - accuracy: 0.5422 - loss: 1.2870 - val_accuracy: 0.6089 - val_loss: 1.1332\n",
            "Epoch 13/20\n",
            "\u001b[1m1563/1563\u001b[0m \u001b[32m━━━━━━━━━━━━━━━━━━━━\u001b[0m\u001b[37m\u001b[0m \u001b[1m202s\u001b[0m 101ms/step - accuracy: 0.5450 - loss: 1.2763 - val_accuracy: 0.6382 - val_loss: 1.0399\n",
            "Epoch 14/20\n",
            "\u001b[1m1563/1563\u001b[0m \u001b[32m━━━━━━━━━━━━━━━━━━━━\u001b[0m\u001b[37m\u001b[0m \u001b[1m203s\u001b[0m 102ms/step - accuracy: 0.5528 - loss: 1.2641 - val_accuracy: 0.6330 - val_loss: 1.0680\n",
            "Epoch 15/20\n",
            "\u001b[1m1563/1563\u001b[0m \u001b[32m━━━━━━━━━━━━━━━━━━━━\u001b[0m\u001b[37m\u001b[0m \u001b[1m200s\u001b[0m 101ms/step - accuracy: 0.5578 - loss: 1.2497 - val_accuracy: 0.6436 - val_loss: 1.0473\n",
            "Epoch 16/20\n",
            "\u001b[1m1563/1563\u001b[0m \u001b[32m━━━━━━━━━━━━━━━━━━━━\u001b[0m\u001b[37m\u001b[0m \u001b[1m202s\u001b[0m 101ms/step - accuracy: 0.5622 - loss: 1.2378 - val_accuracy: 0.6393 - val_loss: 1.0458\n",
            "Epoch 17/20\n",
            "\u001b[1m1563/1563\u001b[0m \u001b[32m━━━━━━━━━━━━━━━━━━━━\u001b[0m\u001b[37m\u001b[0m \u001b[1m202s\u001b[0m 101ms/step - accuracy: 0.5649 - loss: 1.2280 - val_accuracy: 0.6396 - val_loss: 1.0421\n",
            "Epoch 18/20\n",
            "\u001b[1m1563/1563\u001b[0m \u001b[32m━━━━━━━━━━━━━━━━━━━━\u001b[0m\u001b[37m\u001b[0m \u001b[1m203s\u001b[0m 102ms/step - accuracy: 0.5672 - loss: 1.2220 - val_accuracy: 0.6376 - val_loss: 1.0431\n",
            "Epoch 19/20\n",
            "\u001b[1m1563/1563\u001b[0m \u001b[32m━━━━━━━━━━━━━━━━━━━━\u001b[0m\u001b[37m\u001b[0m \u001b[1m201s\u001b[0m 101ms/step - accuracy: 0.5722 - loss: 1.2065 - val_accuracy: 0.6407 - val_loss: 1.0259\n",
            "Epoch 20/20\n",
            "\u001b[1m1563/1563\u001b[0m \u001b[32m━━━━━━━━━━━━━━━━━━━━\u001b[0m\u001b[37m\u001b[0m \u001b[1m202s\u001b[0m 101ms/step - accuracy: 0.5747 - loss: 1.2013 - val_accuracy: 0.6495 - val_loss: 1.0326\n"
          ]
        }
      ]
    },
    {
      "cell_type": "markdown",
      "source": [
        "Modelio vertinimas\n",
        "Po mokymo įvertinsime modelio tikslumą su testavimo duomenimis.\n",
        "\n",
        "\n"
      ],
      "metadata": {
        "id": "ks81l5ZCBU2e"
      }
    },
    {
      "cell_type": "code",
      "source": [
        "test_loss, test_acc = model.evaluate(test_images, test_labels, verbose=2)\n",
        "print(f'Test accuracy: {test_acc}')\n"
      ],
      "metadata": {
        "colab": {
          "base_uri": "https://localhost:8080/"
        },
        "id": "DVQS4udIBahZ",
        "outputId": "11ada8e7-eb41-4b93-f0ab-9c069d83669b"
      },
      "execution_count": null,
      "outputs": [
        {
          "output_type": "stream",
          "name": "stdout",
          "text": [
            "313/313 - 4s - 14ms/step - accuracy: 0.6495 - loss: 1.0326\n",
            "Test accuracy: 0.6495000123977661\n"
          ]
        }
      ]
    },
    {
      "cell_type": "markdown",
      "source": [
        "Formulė  treniravimo rezultatus paverčia procentais, kad būtų aiškiau kokio tikslumo pasiekė mūsų treniruojamas modelis."
      ],
      "metadata": {
        "id": "To3KXMSnGh9_"
      }
    },
    {
      "cell_type": "code",
      "source": [
        "# Modelio tikslumas (decimal formatu)\n",
        "accuracy = [0.1, 0.1, 0.1, 0.0999, 0.6061, 0.1, 0.5271, 0.6495]\n",
        "test_accuracy = [0.10000000149011612, 0.10000000149011612 , 0.10000000149011612 , 0.09989999979734421, 0.6061000227928162, 0.10000000149011612, 0.5271000266075134 , 0.6495000123977661]\n",
        "loss = [2.3027, 2.3026, 2.3026, 2.3027, 1.1558, 2.3038, 1.3249, 1.0326]\n",
        "\n",
        "# Paverčiame į procentus ir suapvaliname iki dviejų skaitmenų po kablelio\n",
        "accuracy_percent = [round(acc * 100, 2) for acc in accuracy]\n",
        "test_accuracy_percent = [round(acc * 100, 2) for acc in test_accuracy]\n",
        "\n",
        "# Nuostoliai neturi būti paverčiami į procentus, todėl juos suapvaliname tiesiog iki dviejų skaitmenų\n",
        "loss_rounded = [round(l, 2) for l in loss]\n",
        "\n",
        "# Parodome rezultatus\n",
        "print(f\"Train Accuracy: {accuracy_percent}\")\n",
        "print(f\"Test Accuracy: {test_accuracy_percent}\")\n",
        "print(f\"Loss: {loss_rounded}\")\n"
      ],
      "metadata": {
        "colab": {
          "base_uri": "https://localhost:8080/"
        },
        "id": "KCWDsk0iGhI1",
        "outputId": "1f8f64ec-9245-4fc2-e8a4-0d19d3559d83"
      },
      "execution_count": null,
      "outputs": [
        {
          "output_type": "stream",
          "name": "stdout",
          "text": [
            "Train Accuracy: [10.0, 10.0, 10.0, 9.99, 60.61, 10.0, 52.71, 64.95]\n",
            "Test Accuracy: [10.0, 10.0, 10.0, 9.99, 60.61, 10.0, 52.71, 64.95]\n",
            "Loss: [2.3, 2.3, 2.3, 2.3, 1.16, 2.3, 1.32, 1.03]\n"
          ]
        }
      ]
    },
    {
      "cell_type": "markdown",
      "source": [
        "Sudarome CSV iš treniravimo  rezultatų duomenų."
      ],
      "metadata": {
        "id": "SKahw0_TAwvR"
      }
    },
    {
      "cell_type": "code",
      "source": [
        "import pandas as pd\n",
        "\n",
        "# Sukuriame duomenis (suvedu treniravimo rezultatų  duomenimis iš visų treniravimų)\n",
        "data = {\n",
        "'training_times': [1, 2, 3, 4, 5, 6, 7, 8],\n",
        " 'epoch_numb': [10, 10, 10, 10, 10, 10, 20, 20],\n",
        "'accuracy': [ 0.1, 0.1, 0.1, 0.0999, 0.6061, 0.1, 0.5271, 0.6495],\n",
        " 'loss': [2.3027, 2.3026, 2.3026, 2.3027, 1.1558, 2.3038, 1.3249, 1.0326],\n",
        "'test_accuracy': [0.10000000149011612, 0.10000000149011612 , 0.10000000149011612 , 0.09989999979734421, 0.6061000227928162, 0.10000000149011612, 0.5271000266075134 , 0.6495000123977661],\n",
        "'train_accuracy_procents': [10.0, 10.0, 10.0, 9.99, 60.61, 10.0, 52.71, 64.95],\n",
        "'test_accuracy_procents': [10.0, 10.0, 10.0, 9.99, 60.61, 10.0, 52.71, 64.95],\n",
        "'loss_procents': [2.3, 2.3, 2.3, 2.3, 1.16, 2.3, 1.32, 1.03]\n",
        "}\n",
        "\n",
        "# Sukuriame DataFrame iš treniravimo rezultatų duomenų (duomenys iš visų treniravimų)\n",
        "df = pd.DataFrame(data)\n",
        "\n",
        "# Išsaugome DataFrame į CSV failą\n",
        "df.to_csv('model_results.csv', index=False)\n",
        "\n",
        "# Patikriname failo turinį\n",
        "print(df)\n"
      ],
      "metadata": {
        "colab": {
          "base_uri": "https://localhost:8080/"
        },
        "id": "8lprtSKOAwT0",
        "outputId": "4656d5f9-34a3-4852-f3dc-3f38244c112c"
      },
      "execution_count": null,
      "outputs": [
        {
          "output_type": "stream",
          "name": "stdout",
          "text": [
            "   training_times  epoch_numb  accuracy    loss  test_accuracy  \\\n",
            "0               1          10    0.1000  2.3027         0.1000   \n",
            "1               2          10    0.1000  2.3026         0.1000   \n",
            "2               3          10    0.1000  2.3026         0.1000   \n",
            "3               4          10    0.0999  2.3027         0.0999   \n",
            "4               5          10    0.6061  1.1558         0.6061   \n",
            "5               6          10    0.1000  2.3038         0.1000   \n",
            "6               7          20    0.5271  1.3249         0.5271   \n",
            "7               8          20    0.6495  1.0326         0.6495   \n",
            "\n",
            "   train_accuracy_procents  test_accuracy_procents  loss_procents  \n",
            "0                    10.00                   10.00           2.30  \n",
            "1                    10.00                   10.00           2.30  \n",
            "2                    10.00                   10.00           2.30  \n",
            "3                     9.99                    9.99           2.30  \n",
            "4                    60.61                   60.61           1.16  \n",
            "5                    10.00                   10.00           2.30  \n",
            "6                    52.71                   52.71           1.32  \n",
            "7                    64.95                   64.95           1.03  \n"
          ]
        }
      ]
    },
    {
      "cell_type": "markdown",
      "source": [
        "Rezultatų vizualizacija Pavaizduosime tikslumo ir nuostolių grafikus, kad galėtume stebėti, kaip modelis tobulėjo per treniravą. Čia matysite bendrą visų mokymų kartų rezultatų vizualizaciją. Atskiras vizualizacijas galite rasti kiekvieno mokymo colab.pdf failuose."
      ],
      "metadata": {
        "id": "0HudZ4YuMakm"
      }
    },
    {
      "cell_type": "code",
      "source": [
        "import matplotlib.pyplot as plt\n",
        "\n",
        "# Duomenys (duomenys iš visų treniravimų)\n",
        "train_accuracy_procents = [10.0, 10.0, 10.0, 9.99, 60.61, 10.0, 52.71, 64.95]\n",
        "test_accuracy_procents = [10.0, 10.0, 10.0, 9.99, 60.61, 10.0, 52.71, 64.95]\n",
        "loss_procents = [2.3, 2.3, 2.3, 2.3, 1.16, 2.3, 1.32, 1.03]\n",
        "training_times = [1, 2, 3, 4, 5, 6, 7, 8]\n",
        "\n",
        "# Sukuriame grafiko objektą (duomenys iš visų treniravimų)\n",
        "fig, ax = plt.subplots(figsize=(10, 6))\n",
        "\n",
        "# Stulpelinė diagrama su Train Accuracy, Test Accuracy ir Loss (duomenys iš visų treniravimų)\n",
        "bar_width = 0.45  # Barų plotis\n",
        "index = range(len(training_times))  # x-asis reikšmės\n",
        "\n",
        "# Stulpeliai Train Accuracy, Test Accuracy ir Loss (duomenys iš visų treniravimų)\n",
        "ax.bar(index, train_accuracy_procents, width=bar_width, label='Train Accuracy (%)', color='b', align='center')\n",
        "ax.bar([i + bar_width for i in index], test_accuracy_procents, width=bar_width, label='Test Accuracy (%)', color='g', align='center')\n",
        "ax.bar([i + 2 * bar_width for i in index], loss_procents, width=bar_width, label='Loss (%)', color='r', align='center')\n",
        "\n",
        "# Pridedame ašis ir etiketes\n",
        "ax.set_xlabel('Training Epoch')\n",
        "ax.set_ylabel('Percentage (%)')\n",
        "ax.set_xticks([i + bar_width for i in index])  # Pozicija x ašyje\n",
        "ax.set_xticklabels(training_times)  # Treniruotės laikai\n",
        "ax.set_title('Train Accuracy, Test Accuracy, and Loss per Epochs')\n",
        "\n",
        "# Labeliai aukščiausiems taškams (dabar su paslinkimu ir mažesniu šriftu)\n",
        "for i in range(len(training_times)):\n",
        "    # Labeliai Train Accuracy\n",
        "    ax.text(i, train_accuracy_procents[i] + 1, f'{train_accuracy_procents[i]:.2f}%',\n",
        "            ha='center', va='bottom', fontsize=8, color='blue', rotation=0, verticalalignment='bottom')\n",
        "\n",
        "    # Labeliai Test Accuracy\n",
        "    ax.text(i + bar_width, test_accuracy_procents[i] + 1, f'{test_accuracy_procents[i]:.2f}%',\n",
        "            ha='center', va='bottom', fontsize=8, color='green', rotation=0, verticalalignment='bottom')\n",
        "\n",
        "    # Labeliai Loss\n",
        "    ax.text(i + 2 * bar_width, loss_procents[i] + 1, f'{loss_procents[i]:.2f}%',\n",
        "            ha='center', va='bottom', fontsize=8, color='red', rotation=0, verticalalignment='bottom')\n",
        "\n",
        "# Pridėkite legendą\n",
        "ax.legend()\n",
        "\n",
        "# Parodome grafiką\n",
        "plt.tight_layout()\n",
        "plt.show()\n"
      ],
      "metadata": {
        "colab": {
          "base_uri": "https://localhost:8080/",
          "height": 607
        },
        "id": "6DnI6o2nL6WV",
        "outputId": "b27b389d-8c6a-4093-b4e7-da2e3daa3d3a"
      },
      "execution_count": null,
      "outputs": [
        {
          "output_type": "display_data",
          "data": {
            "text/plain": [
              "<Figure size 1000x600 with 1 Axes>"
            ],
            "image/png": "[encoded data removed]"
          },
          "metadata": {}
        }
      ]
    },
    {
      "cell_type": "markdown",
      "source": [
        "Išvados\n",
        "Pritaikius Dropout ir Data Augmentation metodus, modelis sugebėjo pasiekti geresnius\n",
        "rezultatus. Train accuracy pasiekė 64.95%, o nuostoliai\n",
        "sumažėjo beveik per pusę. Tikėtasi, kad naudojant šiuos metodus modelis geriau generalizuos\n",
        "ir atsispirs perpratimu"
      ],
      "metadata": {
        "id": "JpL4VBALLnTC"
      }
    },
    {
      "cell_type": "markdown",
      "source": [],
      "metadata": {
        "id": "pj5z5Tj1L6Fs"
      }
    }
  ]
}